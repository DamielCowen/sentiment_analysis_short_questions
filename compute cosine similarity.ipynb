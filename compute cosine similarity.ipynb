{
 "cells": [
  {
   "cell_type": "code",
   "execution_count": 26,
   "metadata": {},
   "outputs": [],
   "source": [
    "import pandas as pd\n",
    "import numpy as np\n",
    "from sklearn.metrics.pairwise import cosine_similarity"
   ]
  },
  {
   "cell_type": "code",
   "execution_count": 27,
   "metadata": {},
   "outputs": [],
   "source": [
    "df = pd.read_csv('results.csv', index_col = 0)"
   ]
  },
  {
   "cell_type": "code",
   "execution_count": 28,
   "metadata": {},
   "outputs": [],
   "source": [
    "vector1 = [[float(value) for value in row.strip('[').strip(']').split(', ')] for row in df['q1_vector']]\n",
    "vector2 = [[float(value) for value in row.strip('[').strip(']').split(', ')] for row in df['q2_vector']]"
   ]
  },
  {
   "cell_type": "code",
   "execution_count": 29,
   "metadata": {},
   "outputs": [],
   "source": [
    "output = []\n",
    "\n",
    "for i in range(len(vector1)):\n",
    "    output.append(float(cosine_similarity(np.array(vector1[i]).reshape(1,-1),\n",
    "                                    np.array(vector2[i]).reshape(1,-1))))"
   ]
  },
  {
   "cell_type": "code",
   "execution_count": 30,
   "metadata": {},
   "outputs": [],
   "source": [
    "df['output'] = output"
   ]
  },
  {
   "cell_type": "code",
   "execution_count": 31,
   "metadata": {},
   "outputs": [],
   "source": [
    "df.to_csv('cosine_similarity')"
   ]
  },
  {
   "cell_type": "code",
   "execution_count": 32,
   "metadata": {},
   "outputs": [
    {
     "data": {
      "text/html": [
       "<div>\n",
       "<style scoped>\n",
       "    .dataframe tbody tr th:only-of-type {\n",
       "        vertical-align: middle;\n",
       "    }\n",
       "\n",
       "    .dataframe tbody tr th {\n",
       "        vertical-align: top;\n",
       "    }\n",
       "\n",
       "    .dataframe thead th {\n",
       "        text-align: right;\n",
       "    }\n",
       "</style>\n",
       "<table border=\"1\" class=\"dataframe\">\n",
       "  <thead>\n",
       "    <tr style=\"text-align: right;\">\n",
       "      <th></th>\n",
       "      <th>question1</th>\n",
       "      <th>question2</th>\n",
       "      <th>q1_vector</th>\n",
       "      <th>q2_vector</th>\n",
       "      <th>output</th>\n",
       "    </tr>\n",
       "    <tr>\n",
       "      <th>id</th>\n",
       "      <th></th>\n",
       "      <th></th>\n",
       "      <th></th>\n",
       "      <th></th>\n",
       "      <th></th>\n",
       "    </tr>\n",
       "  </thead>\n",
       "  <tbody>\n",
       "    <tr>\n",
       "      <td>124132</td>\n",
       "      <td>How did people benefit from the Agricultural R...</td>\n",
       "      <td>If teleportation was somehow possible, how wou...</td>\n",
       "      <td>[0.05645574185836787, 0.01229167527213138]</td>\n",
       "      <td>[0.05668638658419941, -0.021492952948728362]</td>\n",
       "      <td>0.838220</td>\n",
       "    </tr>\n",
       "    <tr>\n",
       "      <td>372338</td>\n",
       "      <td>How many times a normal girl can have sex in a...</td>\n",
       "      <td>What is wrong with me? Sometimes I wake up wit...</td>\n",
       "      <td>[0.07179628526603758, 0.008452525873686974]</td>\n",
       "      <td>[-0.019597324869145245, -0.014801990764510886]</td>\n",
       "      <td>-0.862959</td>\n",
       "    </tr>\n",
       "    <tr>\n",
       "      <td>39767</td>\n",
       "      <td>What are your favorite YA novels?</td>\n",
       "      <td>Question about music in college?</td>\n",
       "      <td>[-0.03215328069256384, 0.05470470981843766]</td>\n",
       "      <td>[0.020093474653235213, -0.006977727850326362]</td>\n",
       "      <td>-0.761488</td>\n",
       "    </tr>\n",
       "    <tr>\n",
       "      <td>99057</td>\n",
       "      <td>How frequently can I have chicken livers safely?</td>\n",
       "      <td>Is it safe for dogs to eat chicken? Why or why...</td>\n",
       "      <td>[0.08110567893426847, 0.007912608062867272]</td>\n",
       "      <td>[0.089450792886284, -0.06184429225633101]</td>\n",
       "      <td>0.763444</td>\n",
       "    </tr>\n",
       "    <tr>\n",
       "      <td>67751</td>\n",
       "      <td>How should I live happily at home?</td>\n",
       "      <td>How do I live happily with no friends?</td>\n",
       "      <td>[0.06522090108107786, -0.01473527230563844]</td>\n",
       "      <td>[0.10309020384659172, -0.006104187502300721]</td>\n",
       "      <td>0.986736</td>\n",
       "    </tr>\n",
       "  </tbody>\n",
       "</table>\n",
       "</div>"
      ],
      "text/plain": [
       "                                                question1  \\\n",
       "id                                                          \n",
       "124132  How did people benefit from the Agricultural R...   \n",
       "372338  How many times a normal girl can have sex in a...   \n",
       "39767                   What are your favorite YA novels?   \n",
       "99057    How frequently can I have chicken livers safely?   \n",
       "67751                  How should I live happily at home?   \n",
       "\n",
       "                                                question2  \\\n",
       "id                                                          \n",
       "124132  If teleportation was somehow possible, how wou...   \n",
       "372338  What is wrong with me? Sometimes I wake up wit...   \n",
       "39767                    Question about music in college?   \n",
       "99057   Is it safe for dogs to eat chicken? Why or why...   \n",
       "67751              How do I live happily with no friends?   \n",
       "\n",
       "                                          q1_vector  \\\n",
       "id                                                    \n",
       "124132   [0.05645574185836787, 0.01229167527213138]   \n",
       "372338  [0.07179628526603758, 0.008452525873686974]   \n",
       "39767   [-0.03215328069256384, 0.05470470981843766]   \n",
       "99057   [0.08110567893426847, 0.007912608062867272]   \n",
       "67751   [0.06522090108107786, -0.01473527230563844]   \n",
       "\n",
       "                                             q2_vector    output  \n",
       "id                                                                \n",
       "124132    [0.05668638658419941, -0.021492952948728362]  0.838220  \n",
       "372338  [-0.019597324869145245, -0.014801990764510886] -0.862959  \n",
       "39767    [0.020093474653235213, -0.006977727850326362] -0.761488  \n",
       "99057        [0.089450792886284, -0.06184429225633101]  0.763444  \n",
       "67751     [0.10309020384659172, -0.006104187502300721]  0.986736  "
      ]
     },
     "execution_count": 32,
     "metadata": {},
     "output_type": "execute_result"
    }
   ],
   "source": [
    "df.head()"
   ]
  },
  {
   "cell_type": "code",
   "execution_count": null,
   "metadata": {},
   "outputs": [],
   "source": []
  }
 ],
 "metadata": {
  "kernelspec": {
   "display_name": "Python 3",
   "language": "python",
   "name": "python3"
  },
  "language_info": {
   "codemirror_mode": {
    "name": "ipython",
    "version": 3
   },
   "file_extension": ".py",
   "mimetype": "text/x-python",
   "name": "python",
   "nbconvert_exporter": "python",
   "pygments_lexer": "ipython3",
   "version": "3.7.4"
  }
 },
 "nbformat": 4,
 "nbformat_minor": 2
}

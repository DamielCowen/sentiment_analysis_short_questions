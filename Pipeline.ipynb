{
 "cells": [
  {
   "cell_type": "code",
   "execution_count": 1,
   "metadata": {},
   "outputs": [],
   "source": [
    "#pipeline that takes raw data, fits-transforms TFIDF object, fits the TFIDF output to pca. Takes test data and \n",
    "\n",
    "import pandas as pd\n",
    "import numpy as np\n",
    "\n",
    "from sklearn.feature_extraction.text import CountVectorizer, TfidfVectorizer\n",
    "from sklearn.model_selection import train_test_split\n",
    "from sklearn.decomposition import PCA\n",
    "\n",
    "df = pd.read_csv('data/training.csv', index_col = 0)\n",
    "\n",
    "X = df[['question1','question2']]\n",
    "y = df['is_duplicate']\n",
    "\n",
    "X_train, X_test, y_train, y_test = train_test_split(X, y, test_size=0.20, random_state=42)\n",
    "fitting_text = X_train['question1'].values\n",
    "\n",
    "q1_test = X_test['question1'].values[:100]\n",
    "q2_test = X_test['question2'].values[:100]\n",
    "\n",
    "\n",
    "tfidf = TfidfVectorizer()\n",
    "tfidf_fit = tfidf.fit(fitting_text)\n",
    "X_train_vector = tfidf_fit.transform(fitting_text).toarray()\n",
    "q1_vector = tfidf_fit.transform(q1_test).toarray()\n",
    "q2_vector = tfidf_fit.transform(q2_test).toarray()"
   ]
  },
  {
   "cell_type": "code",
   "execution_count": null,
   "metadata": {},
   "outputs": [],
   "source": []
  },
  {
   "cell_type": "code",
   "execution_count": 2,
   "metadata": {},
   "outputs": [],
   "source": [
    "pca = PCA(n_components=2)\n",
    "pcd = pca.fit(X_train_vector[:100])"
   ]
  },
  {
   "cell_type": "code",
   "execution_count": 3,
   "metadata": {},
   "outputs": [],
   "source": [
    "q1_output = pcd.transform(q1_vector)"
   ]
  },
  {
   "cell_type": "code",
   "execution_count": 4,
   "metadata": {},
   "outputs": [],
   "source": [
    "q2_output = pcd.transform(q2_vector)"
   ]
  },
  {
   "cell_type": "code",
   "execution_count": 5,
   "metadata": {},
   "outputs": [
    {
     "name": "stderr",
     "output_type": "stream",
     "text": [
      "/Applications/anaconda3/lib/python3.7/site-packages/ipykernel_launcher.py:2: SettingWithCopyWarning: \n",
      "A value is trying to be set on a copy of a slice from a DataFrame.\n",
      "Try using .loc[row_indexer,col_indexer] = value instead\n",
      "\n",
      "See the caveats in the documentation: http://pandas.pydata.org/pandas-docs/stable/user_guide/indexing.html#returning-a-view-versus-a-copy\n",
      "  \n",
      "/Applications/anaconda3/lib/python3.7/site-packages/ipykernel_launcher.py:3: SettingWithCopyWarning: \n",
      "A value is trying to be set on a copy of a slice from a DataFrame.\n",
      "Try using .loc[row_indexer,col_indexer] = value instead\n",
      "\n",
      "See the caveats in the documentation: http://pandas.pydata.org/pandas-docs/stable/user_guide/indexing.html#returning-a-view-versus-a-copy\n",
      "  This is separate from the ipykernel package so we can avoid doing imports until\n"
     ]
    }
   ],
   "source": [
    "results = X_test[:100]\n",
    "results['q1_vector'] = [[float(value) for value in row] for row in q1_output.copy()]\n",
    "results['q2_vector'] = [[float(value) for value in row] for row in q2_output.copy()]"
   ]
  },
  {
   "cell_type": "code",
   "execution_count": 6,
   "metadata": {},
   "outputs": [
    {
     "data": {
      "text/html": [
       "<div>\n",
       "<style scoped>\n",
       "    .dataframe tbody tr th:only-of-type {\n",
       "        vertical-align: middle;\n",
       "    }\n",
       "\n",
       "    .dataframe tbody tr th {\n",
       "        vertical-align: top;\n",
       "    }\n",
       "\n",
       "    .dataframe thead th {\n",
       "        text-align: right;\n",
       "    }\n",
       "</style>\n",
       "<table border=\"1\" class=\"dataframe\">\n",
       "  <thead>\n",
       "    <tr style=\"text-align: right;\">\n",
       "      <th></th>\n",
       "      <th>question1</th>\n",
       "      <th>question2</th>\n",
       "      <th>q1_vector</th>\n",
       "      <th>q2_vector</th>\n",
       "    </tr>\n",
       "    <tr>\n",
       "      <th>id</th>\n",
       "      <th></th>\n",
       "      <th></th>\n",
       "      <th></th>\n",
       "      <th></th>\n",
       "    </tr>\n",
       "  </thead>\n",
       "  <tbody>\n",
       "    <tr>\n",
       "      <td>124132</td>\n",
       "      <td>How did people benefit from the Agricultural R...</td>\n",
       "      <td>If teleportation was somehow possible, how wou...</td>\n",
       "      <td>[0.05645574185836787, 0.01229167527213138]</td>\n",
       "      <td>[0.05668638658419941, -0.021492952948728362]</td>\n",
       "    </tr>\n",
       "    <tr>\n",
       "      <td>372338</td>\n",
       "      <td>How many times a normal girl can have sex in a...</td>\n",
       "      <td>What is wrong with me? Sometimes I wake up wit...</td>\n",
       "      <td>[0.07179628526603758, 0.008452525873686974]</td>\n",
       "      <td>[-0.019597324869145245, -0.014801990764510886]</td>\n",
       "    </tr>\n",
       "    <tr>\n",
       "      <td>39767</td>\n",
       "      <td>What are your favorite YA novels?</td>\n",
       "      <td>Question about music in college?</td>\n",
       "      <td>[-0.03215328069256384, 0.05470470981843766]</td>\n",
       "      <td>[0.020093474653235213, -0.006977727850326362]</td>\n",
       "    </tr>\n",
       "    <tr>\n",
       "      <td>99057</td>\n",
       "      <td>How frequently can I have chicken livers safely?</td>\n",
       "      <td>Is it safe for dogs to eat chicken? Why or why...</td>\n",
       "      <td>[0.08110567893426847, 0.007912608062867272]</td>\n",
       "      <td>[0.089450792886284, -0.06184429225633101]</td>\n",
       "    </tr>\n",
       "    <tr>\n",
       "      <td>67751</td>\n",
       "      <td>How should I live happily at home?</td>\n",
       "      <td>How do I live happily with no friends?</td>\n",
       "      <td>[0.06522090108107786, -0.01473527230563844]</td>\n",
       "      <td>[0.10309020384659172, -0.006104187502300721]</td>\n",
       "    </tr>\n",
       "  </tbody>\n",
       "</table>\n",
       "</div>"
      ],
      "text/plain": [
       "                                                question1  \\\n",
       "id                                                          \n",
       "124132  How did people benefit from the Agricultural R...   \n",
       "372338  How many times a normal girl can have sex in a...   \n",
       "39767                   What are your favorite YA novels?   \n",
       "99057    How frequently can I have chicken livers safely?   \n",
       "67751                  How should I live happily at home?   \n",
       "\n",
       "                                                question2  \\\n",
       "id                                                          \n",
       "124132  If teleportation was somehow possible, how wou...   \n",
       "372338  What is wrong with me? Sometimes I wake up wit...   \n",
       "39767                    Question about music in college?   \n",
       "99057   Is it safe for dogs to eat chicken? Why or why...   \n",
       "67751              How do I live happily with no friends?   \n",
       "\n",
       "                                          q1_vector  \\\n",
       "id                                                    \n",
       "124132   [0.05645574185836787, 0.01229167527213138]   \n",
       "372338  [0.07179628526603758, 0.008452525873686974]   \n",
       "39767   [-0.03215328069256384, 0.05470470981843766]   \n",
       "99057   [0.08110567893426847, 0.007912608062867272]   \n",
       "67751   [0.06522090108107786, -0.01473527230563844]   \n",
       "\n",
       "                                             q2_vector  \n",
       "id                                                      \n",
       "124132    [0.05668638658419941, -0.021492952948728362]  \n",
       "372338  [-0.019597324869145245, -0.014801990764510886]  \n",
       "39767    [0.020093474653235213, -0.006977727850326362]  \n",
       "99057        [0.089450792886284, -0.06184429225633101]  \n",
       "67751     [0.10309020384659172, -0.006104187502300721]  "
      ]
     },
     "execution_count": 6,
     "metadata": {},
     "output_type": "execute_result"
    }
   ],
   "source": [
    "results.head()"
   ]
  },
  {
   "cell_type": "code",
   "execution_count": 9,
   "metadata": {},
   "outputs": [],
   "source": [
    "results.to_csv('results.csv')"
   ]
  },
  {
   "cell_type": "code",
   "execution_count": 8,
   "metadata": {},
   "outputs": [],
   "source": [
    "#[[type(float(value)) for value in row] for row in q1_output]"
   ]
  }
 ],
 "metadata": {
  "kernelspec": {
   "display_name": "Python 3",
   "language": "python",
   "name": "python3"
  },
  "language_info": {
   "codemirror_mode": {
    "name": "ipython",
    "version": 3
   },
   "file_extension": ".py",
   "mimetype": "text/x-python",
   "name": "python",
   "nbconvert_exporter": "python",
   "pygments_lexer": "ipython3",
   "version": "3.7.4"
  }
 },
 "nbformat": 4,
 "nbformat_minor": 2
}
